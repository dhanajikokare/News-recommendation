{
 "cells": [
  {
   "cell_type": "markdown",
   "id": "11667370",
   "metadata": {},
   "source": [
    "# Getting url"
   ]
  },
  {
   "cell_type": "code",
   "execution_count": 13,
   "id": "27a13d15",
   "metadata": {},
   "outputs": [],
   "source": [
    "import pandas as pd\n",
    "import requests\n",
    "from bs4 import BeautifulSoup\n",
    "url = \"https://www.opindia.com/latest-news/\"\n",
    "data = requests.get(url)"
   ]
  },
  {
   "cell_type": "code",
   "execution_count": 2,
   "id": "3fce60bc",
   "metadata": {},
   "outputs": [
    {
     "data": {
      "text/plain": [
       "<Response [200]>"
      ]
     },
     "execution_count": 2,
     "metadata": {},
     "output_type": "execute_result"
    }
   ],
   "source": [
    "data"
   ]
  },
  {
   "cell_type": "code",
   "execution_count": 3,
   "id": "10d560d7",
   "metadata": {},
   "outputs": [],
   "source": [
    "soup = BeautifulSoup(data.content,\"html.parser\")"
   ]
  },
  {
   "cell_type": "markdown",
   "id": "7be252c5",
   "metadata": {},
   "source": [
    "# Article Fetching"
   ]
  },
  {
   "cell_type": "code",
   "execution_count": 4,
   "id": "f0e5ad66",
   "metadata": {},
   "outputs": [],
   "source": [
    "def fetch_article(url):\n",
    "    data = requests.get(url)\n",
    "    soup = BeautifulSoup(data.content,\"html.parser\")\n",
    "    articles = []\n",
    "    for i in soup.find_all(\"h3\",class_ = [\"entry-title td-module-title\"]):\n",
    "        articles.append(i.find('a')['title'])     \n",
    "    return articles"
   ]
  },
  {
   "cell_type": "markdown",
   "id": "d8481d8d",
   "metadata": {},
   "source": [
    "# Collecting all urls"
   ]
  },
  {
   "cell_type": "code",
   "execution_count": 5,
   "id": "027c9ee3",
   "metadata": {},
   "outputs": [],
   "source": [
    "urllist = []\n",
    "for i in range(2,21,1):\n",
    "    url = \"https://www.opindia.com/latest-news/page/\" + str(i) + \"/\"\n",
    "    urllist.append(url)"
   ]
  },
  {
   "cell_type": "code",
   "execution_count": 6,
   "id": "d792df50",
   "metadata": {},
   "outputs": [
    {
     "data": {
      "text/plain": [
       "['https://www.opindia.com/latest-news/page/2/',\n",
       " 'https://www.opindia.com/latest-news/page/3/',\n",
       " 'https://www.opindia.com/latest-news/page/4/',\n",
       " 'https://www.opindia.com/latest-news/page/5/',\n",
       " 'https://www.opindia.com/latest-news/page/6/',\n",
       " 'https://www.opindia.com/latest-news/page/7/',\n",
       " 'https://www.opindia.com/latest-news/page/8/',\n",
       " 'https://www.opindia.com/latest-news/page/9/',\n",
       " 'https://www.opindia.com/latest-news/page/10/',\n",
       " 'https://www.opindia.com/latest-news/page/11/',\n",
       " 'https://www.opindia.com/latest-news/page/12/',\n",
       " 'https://www.opindia.com/latest-news/page/13/',\n",
       " 'https://www.opindia.com/latest-news/page/14/',\n",
       " 'https://www.opindia.com/latest-news/page/15/',\n",
       " 'https://www.opindia.com/latest-news/page/16/',\n",
       " 'https://www.opindia.com/latest-news/page/17/',\n",
       " 'https://www.opindia.com/latest-news/page/18/',\n",
       " 'https://www.opindia.com/latest-news/page/19/',\n",
       " 'https://www.opindia.com/latest-news/page/20/']"
      ]
     },
     "execution_count": 6,
     "metadata": {},
     "output_type": "execute_result"
    }
   ],
   "source": [
    "urllist"
   ]
  },
  {
   "cell_type": "markdown",
   "id": "c5f7ef43",
   "metadata": {},
   "source": [
    "# Articles"
   ]
  },
  {
   "cell_type": "code",
   "execution_count": 7,
   "id": "bd6d1dfa",
   "metadata": {},
   "outputs": [],
   "source": [
    "all_articles = []\n",
    "for i in urllist:\n",
    "    all_articles.extend(fetch_article(i))"
   ]
  },
  {
   "cell_type": "markdown",
   "id": "bfdd4505",
   "metadata": {},
   "source": [
    "# Preprocessing"
   ]
  },
  {
   "cell_type": "code",
   "execution_count": 8,
   "id": "b380362e",
   "metadata": {},
   "outputs": [],
   "source": [
    "p_art =[]\n",
    "for i in all_articles:\n",
    "    q = i.upper()\n",
    "    import re\n",
    "    q = re.sub(\"[^A-Z0-9 ]\",\"\",q)\n",
    "    from nltk.stem import PorterStemmer\n",
    "    tk_q = q.split(\" \")\n",
    "    sent = \"\"\n",
    "    for j in tk_q:\n",
    "        ps = PorterStemmer()\n",
    "        sent = sent + \" \" + ps.stem(j).upper()\n",
    "    p_art.append(sent)"
   ]
  },
  {
   "cell_type": "code",
   "execution_count": 9,
   "id": "5e045480",
   "metadata": {},
   "outputs": [],
   "source": [
    "from sklearn.feature_extraction.text import TfidfVectorizer\n",
    "tf = TfidfVectorizer()\n",
    "A = tf.fit_transform(p_art).toarray()"
   ]
  },
  {
   "cell_type": "markdown",
   "id": "304af217",
   "metadata": {},
   "source": [
    "# Creating clusters"
   ]
  },
  {
   "cell_type": "code",
   "execution_count": 10,
   "id": "6911c1f2",
   "metadata": {},
   "outputs": [],
   "source": [
    "from sklearn.cluster import KMeans\n",
    "km = KMeans(n_clusters=5)\n",
    "cl_res = km.fit(A)"
   ]
  },
  {
   "cell_type": "code",
   "execution_count": 11,
   "id": "dc94747a",
   "metadata": {},
   "outputs": [
    {
     "data": {
      "text/plain": [
       "array([4, 1, 1, ..., 0, 0, 0])"
      ]
     },
     "execution_count": 11,
     "metadata": {},
     "output_type": "execute_result"
    }
   ],
   "source": [
    "cl_res.labels_"
   ]
  },
  {
   "cell_type": "code",
   "execution_count": 14,
   "id": "4da8b035",
   "metadata": {},
   "outputs": [],
   "source": [
    "Q = pd.DataFrame(p_art,columns=[\"Article\"])\n",
    "Q['Cluster']=cl_res.labels_"
   ]
  },
  {
   "cell_type": "code",
   "execution_count": 15,
   "id": "4dac991e",
   "metadata": {},
   "outputs": [
    {
     "data": {
      "text/html": [
       "<div>\n",
       "<style scoped>\n",
       "    .dataframe tbody tr th:only-of-type {\n",
       "        vertical-align: middle;\n",
       "    }\n",
       "\n",
       "    .dataframe tbody tr th {\n",
       "        vertical-align: top;\n",
       "    }\n",
       "\n",
       "    .dataframe thead th {\n",
       "        text-align: right;\n",
       "    }\n",
       "</style>\n",
       "<table border=\"1\" class=\"dataframe\">\n",
       "  <thead>\n",
       "    <tr style=\"text-align: right;\">\n",
       "      <th></th>\n",
       "      <th>Article</th>\n",
       "      <th>Cluster</th>\n",
       "    </tr>\n",
       "  </thead>\n",
       "  <tbody>\n",
       "    <tr>\n",
       "      <th>0</th>\n",
       "      <td>HERE IS WHI THE HARYANA GOVT CANCEL THE LICEN...</td>\n",
       "      <td>4</td>\n",
       "    </tr>\n",
       "    <tr>\n",
       "      <th>1</th>\n",
       "      <td>MUMBAI BMC FLOAT TENDER FOR 128 CRORE URDU CE...</td>\n",
       "      <td>1</td>\n",
       "    </tr>\n",
       "    <tr>\n",
       "      <th>2</th>\n",
       "      <td>REALITI OF RAHUL GANDHI AT CAMBRIDG UNIVERS E...</td>\n",
       "      <td>1</td>\n",
       "    </tr>\n",
       "    <tr>\n",
       "      <th>3</th>\n",
       "      <td>FORMER PUNJAB CONGRESS CHIEF NAVJOT SIDHU TO ...</td>\n",
       "      <td>0</td>\n",
       "    </tr>\n",
       "    <tr>\n",
       "      <th>4</th>\n",
       "      <td>LAND FOR JOB SCAM CBI RAID MULTIPL LOCAT LINK...</td>\n",
       "      <td>0</td>\n",
       "    </tr>\n",
       "  </tbody>\n",
       "</table>\n",
       "</div>"
      ],
      "text/plain": [
       "                                             Article  Cluster\n",
       "0   HERE IS WHI THE HARYANA GOVT CANCEL THE LICEN...        4\n",
       "1   MUMBAI BMC FLOAT TENDER FOR 128 CRORE URDU CE...        1\n",
       "2   REALITI OF RAHUL GANDHI AT CAMBRIDG UNIVERS E...        1\n",
       "3   FORMER PUNJAB CONGRESS CHIEF NAVJOT SIDHU TO ...        0\n",
       "4   LAND FOR JOB SCAM CBI RAID MULTIPL LOCAT LINK...        0"
      ]
     },
     "execution_count": 15,
     "metadata": {},
     "output_type": "execute_result"
    }
   ],
   "source": [
    "Q.head()"
   ]
  },
  {
   "cell_type": "raw",
   "id": "93aae5b1",
   "metadata": {},
   "source": [
    "1 --> politics\n",
    "2 --> religion\n",
    "3 --> sports\n",
    "4 --> entertainment\n",
    "0 --> geopolitics"
   ]
  },
  {
   "cell_type": "code",
   "execution_count": 16,
   "id": "1e2f579e",
   "metadata": {},
   "outputs": [
    {
     "data": {
      "text/html": [
       "<div>\n",
       "<style scoped>\n",
       "    .dataframe tbody tr th:only-of-type {\n",
       "        vertical-align: middle;\n",
       "    }\n",
       "\n",
       "    .dataframe tbody tr th {\n",
       "        vertical-align: top;\n",
       "    }\n",
       "\n",
       "    .dataframe thead th {\n",
       "        text-align: right;\n",
       "    }\n",
       "</style>\n",
       "<table border=\"1\" class=\"dataframe\">\n",
       "  <thead>\n",
       "    <tr style=\"text-align: right;\">\n",
       "      <th></th>\n",
       "      <th>Article</th>\n",
       "      <th>Cluster</th>\n",
       "    </tr>\n",
       "  </thead>\n",
       "  <tbody>\n",
       "    <tr>\n",
       "      <th>0</th>\n",
       "      <td>HERE IS WHI THE HARYANA GOVT CANCEL THE LICEN...</td>\n",
       "      <td>4</td>\n",
       "    </tr>\n",
       "    <tr>\n",
       "      <th>1</th>\n",
       "      <td>MUMBAI BMC FLOAT TENDER FOR 128 CRORE URDU CE...</td>\n",
       "      <td>1</td>\n",
       "    </tr>\n",
       "    <tr>\n",
       "      <th>2</th>\n",
       "      <td>REALITI OF RAHUL GANDHI AT CAMBRIDG UNIVERS E...</td>\n",
       "      <td>1</td>\n",
       "    </tr>\n",
       "    <tr>\n",
       "      <th>3</th>\n",
       "      <td>FORMER PUNJAB CONGRESS CHIEF NAVJOT SIDHU TO ...</td>\n",
       "      <td>0</td>\n",
       "    </tr>\n",
       "    <tr>\n",
       "      <th>4</th>\n",
       "      <td>LAND FOR JOB SCAM CBI RAID MULTIPL LOCAT LINK...</td>\n",
       "      <td>0</td>\n",
       "    </tr>\n",
       "    <tr>\n",
       "      <th>...</th>\n",
       "      <td>...</td>\n",
       "      <td>...</td>\n",
       "    </tr>\n",
       "    <tr>\n",
       "      <th>1971</th>\n",
       "      <td>JAHANGIRPURI RIOT POLIC CRIME BRANCH BEGIN PR...</td>\n",
       "      <td>0</td>\n",
       "    </tr>\n",
       "    <tr>\n",
       "      <th>1972</th>\n",
       "      <td>PERMISS TO BE TAKEN FOR PLAY HANUMAN CHALISA ...</td>\n",
       "      <td>0</td>\n",
       "    </tr>\n",
       "    <tr>\n",
       "      <th>1973</th>\n",
       "      <td>MADHYA PRADESH GOVT TO REHABILIT HASEENA FAKH...</td>\n",
       "      <td>0</td>\n",
       "    </tr>\n",
       "    <tr>\n",
       "      <th>1974</th>\n",
       "      <td>BJP PRESID JP NADDA BLAME THE OPPOSIT FOR FUE...</td>\n",
       "      <td>0</td>\n",
       "    </tr>\n",
       "    <tr>\n",
       "      <th>1975</th>\n",
       "      <td>PUNJAB CM BHAGWANT MANN MEET ANTIINDIA UK MP ...</td>\n",
       "      <td>0</td>\n",
       "    </tr>\n",
       "  </tbody>\n",
       "</table>\n",
       "<p>1976 rows × 2 columns</p>\n",
       "</div>"
      ],
      "text/plain": [
       "                                                Article  Cluster\n",
       "0      HERE IS WHI THE HARYANA GOVT CANCEL THE LICEN...        4\n",
       "1      MUMBAI BMC FLOAT TENDER FOR 128 CRORE URDU CE...        1\n",
       "2      REALITI OF RAHUL GANDHI AT CAMBRIDG UNIVERS E...        1\n",
       "3      FORMER PUNJAB CONGRESS CHIEF NAVJOT SIDHU TO ...        0\n",
       "4      LAND FOR JOB SCAM CBI RAID MULTIPL LOCAT LINK...        0\n",
       "...                                                 ...      ...\n",
       "1971   JAHANGIRPURI RIOT POLIC CRIME BRANCH BEGIN PR...        0\n",
       "1972   PERMISS TO BE TAKEN FOR PLAY HANUMAN CHALISA ...        0\n",
       "1973   MADHYA PRADESH GOVT TO REHABILIT HASEENA FAKH...        0\n",
       "1974   BJP PRESID JP NADDA BLAME THE OPPOSIT FOR FUE...        0\n",
       "1975   PUNJAB CM BHAGWANT MANN MEET ANTIINDIA UK MP ...        0\n",
       "\n",
       "[1976 rows x 2 columns]"
      ]
     },
     "execution_count": 16,
     "metadata": {},
     "output_type": "execute_result"
    }
   ],
   "source": [
    "Q"
   ]
  },
  {
   "cell_type": "code",
   "execution_count": 17,
   "id": "1b463613",
   "metadata": {},
   "outputs": [],
   "source": [
    "E = {1 : \"politics\",\n",
    "2 : \"religion\",\n",
    "3 : \"sports\",\n",
    "4 : \"entertainment\",\n",
    "0 : \"geopolitics\"}"
   ]
  },
  {
   "cell_type": "code",
   "execution_count": 18,
   "id": "8a9b7176",
   "metadata": {},
   "outputs": [],
   "source": [
    "R = []\n",
    "for i in Q.Cluster:\n",
    "    R.append(E[i])\n",
    "\n",
    "Q['category'] = R"
   ]
  },
  {
   "cell_type": "markdown",
   "id": "dc7f1a9d",
   "metadata": {},
   "source": [
    "# News recommendation by Categorywise"
   ]
  },
  {
   "cell_type": "code",
   "execution_count": 19,
   "id": "5cae7609",
   "metadata": {},
   "outputs": [
    {
     "data": {
      "text/html": [
       "<div>\n",
       "<style scoped>\n",
       "    .dataframe tbody tr th:only-of-type {\n",
       "        vertical-align: middle;\n",
       "    }\n",
       "\n",
       "    .dataframe tbody tr th {\n",
       "        vertical-align: top;\n",
       "    }\n",
       "\n",
       "    .dataframe thead th {\n",
       "        text-align: right;\n",
       "    }\n",
       "</style>\n",
       "<table border=\"1\" class=\"dataframe\">\n",
       "  <thead>\n",
       "    <tr style=\"text-align: right;\">\n",
       "      <th></th>\n",
       "      <th>Article</th>\n",
       "      <th>Cluster</th>\n",
       "      <th>category</th>\n",
       "    </tr>\n",
       "  </thead>\n",
       "  <tbody>\n",
       "    <tr>\n",
       "      <th>0</th>\n",
       "      <td>HERE IS WHI THE HARYANA GOVT CANCEL THE LICEN...</td>\n",
       "      <td>4</td>\n",
       "      <td>entertainment</td>\n",
       "    </tr>\n",
       "    <tr>\n",
       "      <th>1</th>\n",
       "      <td>MUMBAI BMC FLOAT TENDER FOR 128 CRORE URDU CE...</td>\n",
       "      <td>1</td>\n",
       "      <td>politics</td>\n",
       "    </tr>\n",
       "    <tr>\n",
       "      <th>2</th>\n",
       "      <td>REALITI OF RAHUL GANDHI AT CAMBRIDG UNIVERS E...</td>\n",
       "      <td>1</td>\n",
       "      <td>politics</td>\n",
       "    </tr>\n",
       "    <tr>\n",
       "      <th>3</th>\n",
       "      <td>FORMER PUNJAB CONGRESS CHIEF NAVJOT SIDHU TO ...</td>\n",
       "      <td>0</td>\n",
       "      <td>geopolitics</td>\n",
       "    </tr>\n",
       "    <tr>\n",
       "      <th>4</th>\n",
       "      <td>LAND FOR JOB SCAM CBI RAID MULTIPL LOCAT LINK...</td>\n",
       "      <td>0</td>\n",
       "      <td>geopolitics</td>\n",
       "    </tr>\n",
       "    <tr>\n",
       "      <th>...</th>\n",
       "      <td>...</td>\n",
       "      <td>...</td>\n",
       "      <td>...</td>\n",
       "    </tr>\n",
       "    <tr>\n",
       "      <th>1971</th>\n",
       "      <td>JAHANGIRPURI RIOT POLIC CRIME BRANCH BEGIN PR...</td>\n",
       "      <td>0</td>\n",
       "      <td>geopolitics</td>\n",
       "    </tr>\n",
       "    <tr>\n",
       "      <th>1972</th>\n",
       "      <td>PERMISS TO BE TAKEN FOR PLAY HANUMAN CHALISA ...</td>\n",
       "      <td>0</td>\n",
       "      <td>geopolitics</td>\n",
       "    </tr>\n",
       "    <tr>\n",
       "      <th>1973</th>\n",
       "      <td>MADHYA PRADESH GOVT TO REHABILIT HASEENA FAKH...</td>\n",
       "      <td>0</td>\n",
       "      <td>geopolitics</td>\n",
       "    </tr>\n",
       "    <tr>\n",
       "      <th>1974</th>\n",
       "      <td>BJP PRESID JP NADDA BLAME THE OPPOSIT FOR FUE...</td>\n",
       "      <td>0</td>\n",
       "      <td>geopolitics</td>\n",
       "    </tr>\n",
       "    <tr>\n",
       "      <th>1975</th>\n",
       "      <td>PUNJAB CM BHAGWANT MANN MEET ANTIINDIA UK MP ...</td>\n",
       "      <td>0</td>\n",
       "      <td>geopolitics</td>\n",
       "    </tr>\n",
       "  </tbody>\n",
       "</table>\n",
       "<p>1976 rows × 3 columns</p>\n",
       "</div>"
      ],
      "text/plain": [
       "                                                Article  Cluster  \\\n",
       "0      HERE IS WHI THE HARYANA GOVT CANCEL THE LICEN...        4   \n",
       "1      MUMBAI BMC FLOAT TENDER FOR 128 CRORE URDU CE...        1   \n",
       "2      REALITI OF RAHUL GANDHI AT CAMBRIDG UNIVERS E...        1   \n",
       "3      FORMER PUNJAB CONGRESS CHIEF NAVJOT SIDHU TO ...        0   \n",
       "4      LAND FOR JOB SCAM CBI RAID MULTIPL LOCAT LINK...        0   \n",
       "...                                                 ...      ...   \n",
       "1971   JAHANGIRPURI RIOT POLIC CRIME BRANCH BEGIN PR...        0   \n",
       "1972   PERMISS TO BE TAKEN FOR PLAY HANUMAN CHALISA ...        0   \n",
       "1973   MADHYA PRADESH GOVT TO REHABILIT HASEENA FAKH...        0   \n",
       "1974   BJP PRESID JP NADDA BLAME THE OPPOSIT FOR FUE...        0   \n",
       "1975   PUNJAB CM BHAGWANT MANN MEET ANTIINDIA UK MP ...        0   \n",
       "\n",
       "           category  \n",
       "0     entertainment  \n",
       "1          politics  \n",
       "2          politics  \n",
       "3       geopolitics  \n",
       "4       geopolitics  \n",
       "...             ...  \n",
       "1971    geopolitics  \n",
       "1972    geopolitics  \n",
       "1973    geopolitics  \n",
       "1974    geopolitics  \n",
       "1975    geopolitics  \n",
       "\n",
       "[1976 rows x 3 columns]"
      ]
     },
     "execution_count": 19,
     "metadata": {},
     "output_type": "execute_result"
    }
   ],
   "source": [
    "Q"
   ]
  },
  {
   "cell_type": "code",
   "execution_count": null,
   "id": "37bc118d",
   "metadata": {},
   "outputs": [],
   "source": []
  }
 ],
 "metadata": {
  "kernelspec": {
   "display_name": "Python 3 (ipykernel)",
   "language": "python",
   "name": "python3"
  },
  "language_info": {
   "codemirror_mode": {
    "name": "ipython",
    "version": 3
   },
   "file_extension": ".py",
   "mimetype": "text/x-python",
   "name": "python",
   "nbconvert_exporter": "python",
   "pygments_lexer": "ipython3",
   "version": "3.8.12"
  }
 },
 "nbformat": 4,
 "nbformat_minor": 5
}
